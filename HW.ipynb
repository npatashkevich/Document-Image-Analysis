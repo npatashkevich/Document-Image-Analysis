import os
from PIL import Image

def image_details(img):
    width, height = img.size
    print('size is {wide} x {height}'.format(wide=width, height=height))
    return width, height

def resize_image(image):
    original_image_width, original_image_height = image_details(image)
    new_width = int(original_image_width/5)
    new_height = int(original_image_height/5)
    scaled_image = Image.new(image.mode, (new_width, new_height), 'white')
    for i in range(original_image_width):
        if i % 5 == 0:
            for j in range(original_image_height):
                if j % 5 == 0:
                    scaled_image.putpixel((int(i/5), int(j/5) ), image.getpixel((i,j)) )
    image_details(scaled_image)
    return scaled_image

def save_image(image, old_name, dir):
    index = old_name.find('.jpg')
    final_string = old_name[:index] + '_resized' + old_name[index:]
    newpath = dir + "/resized_images" 
    if not os.path.exists(newpath):
        os.makedirs(newpath)
    path_to_save = newpath +"/" + final_string
    image.save(path_to_save)
    print("image saved: " + path_to_save)

def main():
    dir = os.getcwd()
    try:
        #assuming this file is one directory upper than images
        directory = os.fsencode(dir + '/images' )
        for file in os.listdir(directory):
            filename = os.fsdecode(file)
            if filename.endswith(".jpg"):
                image = Image.open(dir + '/images/' + filename)
                resized_image = resize_image(image)
                save_image(resized_image, filename, dir)
                resized_image.show()
            else:
                continue
                
    except Exception as e:
        print(e)

if __name__ == "__main__":
    main()    
