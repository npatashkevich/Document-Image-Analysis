{
 "cells": [
  {
   "cell_type": "markdown",
   "id": "2fecbd26",
   "metadata": {},
   "source": [
    "Assignment 2\n",
    "\n",
    "In the previous assignment, you wrote a program to up-scale an image. In this assign- ments, you will evaluate qualitatively and quantitatively your up-scaling algorithm.\n",
    "\n",
    "Task: Evaluate your Up-scaling algorithm"
   ]
  },
  {
   "cell_type": "markdown",
   "id": "ec0e32ab",
   "metadata": {},
   "source": [
    "(a)  In ILIAS you will find a folder with images at the original size from which you got a down-scale version. Do you observe difference between the two versions? If yes, comment them showing some zooming view."
   ]
  },
  {
   "cell_type": "markdown",
   "id": "e4d95e12",
   "metadata": {},
   "source": [
    "When we use the code to increase the size of an image, the resulting enlarged image will have twice the size in width and height compared to the original image.\n",
    "\n",
    "Visually, this can mean that the enlarged image will be sharper and more detailed, but it depends on the quality of the original image and the specific method used to increase the size of the image. However, the quality of the enlarged image may be slightly lower when using the PIL library compared to more complex machine learning or computer vision methods."
   ]
  },
  {
   "cell_type": "markdown",
   "id": "aad0a633",
   "metadata": {},
   "source": [
    "(b) To evaluate the quality of your algorithm, we ask you fist to write your own algorithm to subtract two images. And the, applied it on the original image and your own up- scaling image version. Provide an output image. What do you observe?"
   ]
  },
  {
   "cell_type": "code",
   "execution_count": 10,
   "id": "f85f66e0",
   "metadata": {},
   "outputs": [],
   "source": [
    "import os\n",
    "from PIL import Image\n",
    "\n",
    "def subtract_images(original_image_path, upscaled_image_path):\n",
    "    # Open the original image\n",
    "    original_image = Image.open(original_image_path)\n",
    "    # Open the upscaled image\n",
    "    upscaled_image = Image.open(upscaled_image_path)\n",
    "    # Subtract the original image from the upscaled image\n",
    "    diff_image = ImageChops.difference(upscaled_image, original_image)\n",
    "    # Return the difference image\n",
    "    return diff_image\n",
    "\n",
    "def subtract_all_images_in_folder(folder_path):\n",
    "    # Get the list of files in the folder\n",
    "    file_list = os.listdir(folder_path)\n",
    "    # Loop through all files in the folder\n",
    "    for file_name in file_list:\n",
    "        # Check if the file is an original image file\n",
    "        if file_name.startswith(\"img\"):\n",
    "            # Get the full path to the original image\n",
    "            original_image_path = os.path.join(folder_path, file_name)\n",
    "            # Create the corresponding upscaled image file name\n",
    "            upscaled_file_name = \"upscaled_\" + file_name\n",
    "            # Get the full path to the upscaled image\n",
    "            upscaled_image_path = os.path.join(folder_path, upscaled_file_name)\n",
    "            # Check if the upscaled image file exists\n",
    "            if upscaled_file_name in file_list:\n",
    "                # Subtract the original image from the upscaled image\n",
    "                diff_image = subtract_images(original_image_path, upscaled_image_path)\n",
    "                # Create a new filename for the difference image\n",
    "                diff_file_name = \"diff_\" + file_name\n",
    "                # Create the full path for the new file\n",
    "                diff_file_path = os.path.join(folder_path, diff_file_name)\n",
    "                # Save the difference image to the new file\n",
    "                diff_image.save(diff_file_path)\n",
    "\n",
    "# Get the current directory\n",
    "current_dir = os.getcwd()\n",
    "# Specify the path to the images folder\n",
    "images_path = os.path.join(current_dir, \"images\")\n",
    "\n",
    "# Subtract original images from their corresponding upscaled images\n",
    "subtract_all_images_in_folder(images_path)"
   ]
  },
  {
   "cell_type": "markdown",
   "id": "c0245ddf",
   "metadata": {},
   "source": [
    "Provide an output image. What do you observe?\n",
    "\n",
    "The result of subtracting the original images from their upscaled versions allows for evaluating the quality of the image up-scaling algorithm.\n",
    "\n",
    "In my case, the resulting image has mostly black pixels, indicating that the up-scaling algorithm created an image with insufficient pixel density. Additionally, there is a lot of noise in the resulting image, suggesting that the algorithm adds unnecessary details to the image.\n",
    "\n",
    "The goal is to improve the algorithm by reducing the amount of noise and more clearly defining the edges of objects in the resulting image."
   ]
  },
  {
   "cell_type": "markdown",
   "id": "526ccbac",
   "metadata": {},
   "source": [
    "(c) To evaluate quantitatively your algorithm, use the Signal Noise Ratio. Write a function to calculate the Signal Noise Ratio (SNR), using to this formula below. \n",
    "\n",
    "SNR = 10log10(Psignal/Pnoise)"
   ]
  },
  {
   "cell_type": "code",
   "execution_count": 56,
   "id": "18756179",
   "metadata": {},
   "outputs": [
    {
     "name": "stdout",
     "output_type": "stream",
     "text": [
      "img1.jpg vs upscaled_img1.jpg: SNR = 14.26\n",
      "img2.jpg vs upscaled_img2.jpg: SNR = 19.26\n",
      "img3.jpg vs upscaled_img3.jpg: SNR = 15.33\n"
     ]
    }
   ],
   "source": [
    "from PIL import Image\n",
    "import numpy as np\n",
    "\n",
    "def read_image(image_path):\n",
    "    image = Image.open(image_path)\n",
    "    return image\n",
    "\n",
    "def calculate_snr(original_image, processed_image):\n",
    "    original_array = np.array(original_image)\n",
    "    processed_array = np.array(processed_image)\n",
    "    \n",
    "    psignal = np.mean(original_array)\n",
    "    pnoise = np.sqrt(np.mean((original_array - processed_array)**2))\n",
    "    \n",
    "    snr = 10 * np.log10(psignal / pnoise)\n",
    "    return snr\n",
    "\n",
    "# Read original and processed images\n",
    "image_files = [\n",
    "    ('img1.jpg', 'upscaled_img1.jpg'),\n",
    "    ('img2.jpg', 'upscaled_img2.jpg'),\n",
    "    ('img3.jpg', 'upscaled_img3.jpg')\n",
    "]\n",
    "\n",
    "for original_file, processed_file in image_files:\n",
    "    # Read original and processed images\n",
    "    original_image = read_image(f'images/{original_file}')\n",
    "    processed_image = read_image(f'images/{processed_file}')\n",
    "\n",
    "    # Resize processed image to match the size of the original image\n",
    "    processed_image = processed_image.resize(original_image.size, Image.ANTIALIAS)\n",
    "\n",
    "    # Calculate SNR\n",
    "    snr = calculate_snr(original_image, processed_image)\n",
    "\n",
    "    print(f'{original_file} vs {processed_file}: SNR = {snr:.2f}')\n"
   ]
  },
  {
   "cell_type": "markdown",
   "id": "fd41bfca",
   "metadata": {},
   "source": [
    "Comment the result.\n",
    "\n",
    "The higher the SNR value, the better the quality of the restored image. Usually, if the SNR value is above 20-30 dB, the quality of the restored image is considered good.\n",
    "\n",
    "The results show that the best quality of the restored image with a high SNR value of 19.26 dB was achieved for img2.jpg. For img1.jpg and img3.jpg, the SNR values are lower, indicating lower quality of restoration. In this case, the quality can be improved."
   ]
  },
  {
   "cell_type": "code",
   "execution_count": null,
   "id": "e4e37fa4",
   "metadata": {},
   "outputs": [],
   "source": []
  }
 ],
 "metadata": {
  "kernelspec": {
   "display_name": "Python 3 (ipykernel)",
   "language": "python",
   "name": "python3"
  },
  "language_info": {
   "codemirror_mode": {
    "name": "ipython",
    "version": 3
   },
   "file_extension": ".py",
   "mimetype": "text/x-python",
   "name": "python",
   "nbconvert_exporter": "python",
   "pygments_lexer": "ipython3",
   "version": "3.9.12"
  }
 },
 "nbformat": 4,
 "nbformat_minor": 5
}
