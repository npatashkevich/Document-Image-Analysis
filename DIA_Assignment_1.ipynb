{
 "cells": [
  {
   "cell_type": "code",
   "execution_count": 1,
   "id": "cd5578f9",
   "metadata": {},
   "outputs": [],
   "source": [
    "import os\n",
    "from PIL import Image\n",
    "\n",
    "def upscale_image(image_path):\n",
    "    # Open the image\n",
    "    image = Image.open(image_path)\n",
    "    # Get the new size of the image\n",
    "    new_size = (image.width * 2, image.height * 2)\n",
    "    # Create a new image with the increased size\n",
    "    upscaled_image = image.resize(new_size)\n",
    "    return upscaled_image\n",
    "\n",
    "def upscale_images_in_folder(folder_path):\n",
    "    # Loop through all files in the folder\n",
    "    for file_name in os.listdir(folder_path):\n",
    "        # Check if the file is an image file\n",
    "        if file_name.endswith(\".jpg\") or file_name.endswith(\".png\") or file_name.endswith(\".gif\"):\n",
    "            # Get the full path to the file\n",
    "            file_path = os.path.join(folder_path, file_name)\n",
    "            # Upscale the image\n",
    "            upscaled_image = upscale_image(file_path)\n",
    "            # Create a new filename for the upscaled image\n",
    "            new_file_name = \"upscaled_\" + file_name\n",
    "            # Create the full path for the new file\n",
    "            new_file_path = os.path.join(folder_path, new_file_name)\n",
    "            # Save the upscaled image to the new file\n",
    "            upscaled_image.save(new_file_path)\n",
    "\n",
    "# Get the current directory\n",
    "current_dir = os.getcwd()\n",
    "# Specify the path to the images folder\n",
    "images_path = os.path.join(current_dir, \"images\")\n",
    "\n",
    "# Upscale all images in the images folder\n",
    "upscale_images_in_folder(images_path)"
   ]
  },
  {
   "cell_type": "code",
   "execution_count": null,
   "id": "4569105c",
   "metadata": {},
   "outputs": [],
   "source": []
  }
 ],
 "metadata": {
  "kernelspec": {
   "display_name": "Python 3 (ipykernel)",
   "language": "python",
   "name": "python3"
  },
  "language_info": {
   "codemirror_mode": {
    "name": "ipython",
    "version": 3
   },
   "file_extension": ".py",
   "mimetype": "text/x-python",
   "name": "python",
   "nbconvert_exporter": "python",
   "pygments_lexer": "ipython3",
   "version": "3.9.12"
  }
 },
 "nbformat": 4,
 "nbformat_minor": 5
}
