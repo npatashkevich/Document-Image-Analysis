{
 "cells": [
  {
   "cell_type": "code",
   "execution_count": 2,
   "id": "cd5578f9",
   "metadata": {},
   "outputs": [
    {
     "name": "stdout",
     "output_type": "stream",
     "text": [
      "size is 500 x 750\n",
      "size is 1000 x 1500\n",
      "image saved: /Users/natallia/resized_images/utp-0101_016v-500x750_resized.jpg\n",
      "size is 300 x 450\n",
      "size is 600 x 900\n",
      "image saved: /Users/natallia/resized_images/aef-CSN-III-3-1_088-300x450_resized.jpg\n",
      "size is 1850 x 2750\n",
      "size is 3700 x 5500\n",
      "image saved: /Users/natallia/resized_images/f53de51f6de846d6fff1b87922e7e3fb_1850x2750_resized.jpg\n"
     ]
    }
   ],
   "source": [
    "import os\n",
    "from PIL import Image\n",
    "\n",
    "def image_details(img):\n",
    "    width, height = img.size\n",
    "    print('size is {wide} x {height}'.format(wide=width, height=height))\n",
    "    return width, height\n",
    "\n",
    "def resize_image(image):\n",
    "    original_image_width, original_image_height = image_details(image)\n",
    "    new_width = int(original_image_width*2)\n",
    "    new_height = int(original_image_height*2)\n",
    "    scaled_image = Image.new(image.mode, (new_width, new_height), 'white')\n",
    "    for i in range(original_image_width):\n",
    "        if i % 5 == 0:\n",
    "            for j in range(original_image_height):\n",
    "                if j % 5 == 0:\n",
    "                    scaled_image.putpixel((int(i/5), int(j/5) ), image.getpixel((i,j)) )\n",
    "    image_details(scaled_image)\n",
    "    return scaled_image\n",
    "\n",
    "def save_image(image, old_name, dir):\n",
    "    index = old_name.find('.jpg')\n",
    "    final_string = old_name[:index] + '_resized' + old_name[index:]\n",
    "    newpath = dir + \"/resized_images\" \n",
    "    if not os.path.exists(newpath):\n",
    "        os.makedirs(newpath)\n",
    "    path_to_save = newpath +\"/\" + final_string\n",
    "    image.save(path_to_save)\n",
    "    print(\"image saved: \" + path_to_save)\n",
    "\n",
    "def main():\n",
    "    dir = os.getcwd()\n",
    "    try:\n",
    "        #assuming this file is one directory upper than images\n",
    "        directory = os.fsencode(dir + '/images' )\n",
    "        for file in os.listdir(directory):\n",
    "            filename = os.fsdecode(file)\n",
    "            if filename.endswith(\".jpg\"):\n",
    "                image = Image.open(dir + '/images/' + filename)\n",
    "                resized_image = resize_image(image)\n",
    "                save_image(resized_image, filename, dir)\n",
    "                resized_image.show()\n",
    "            else:\n",
    "                continue\n",
    "                \n",
    "    except Exception as e:\n",
    "        print(e)\n",
    "\n",
    "if __name__ == \"__main__\":\n",
    "    main()"
   ]
  },
  {
   "cell_type": "code",
   "execution_count": null,
   "id": "f577341d",
   "metadata": {},
   "outputs": [],
   "source": []
  },
  {
   "cell_type": "code",
   "execution_count": null,
   "id": "a0a0a122",
   "metadata": {},
   "outputs": [],
   "source": []
  },
  {
   "cell_type": "code",
   "execution_count": null,
   "id": "1b28e70a",
   "metadata": {},
   "outputs": [],
   "source": []
  }
 ],
 "metadata": {
  "kernelspec": {
   "display_name": "Python 3 (ipykernel)",
   "language": "python",
   "name": "python3"
  },
  "language_info": {
   "codemirror_mode": {
    "name": "ipython",
    "version": 3
   },
   "file_extension": ".py",
   "mimetype": "text/x-python",
   "name": "python",
   "nbconvert_exporter": "python",
   "pygments_lexer": "ipython3",
   "version": "3.9.12"
  }
 },
 "nbformat": 4,
 "nbformat_minor": 5
}
